{
 "cells": [
  {
   "cell_type": "code",
   "execution_count": null,
   "metadata": {},
   "outputs": [],
   "source": [
    "#! pip install plotly==5.8.2\n",
    "#! pip install jupyter-dash"
   ]
  },
  {
   "cell_type": "code",
   "execution_count": 1,
   "metadata": {},
   "outputs": [],
   "source": [
    "# Import required libraries\n",
    "import pandas as pd\n",
    "#import dash\n",
    "from jupyter_dash import JupyterDash\n",
    "from dash import html,dcc\n",
    "from dash.dependencies import Input,Output\n",
    "import plotly.express as px\n",
    "import wget"
   ]
  },
  {
   "cell_type": "code",
   "execution_count": 2,
   "metadata": {},
   "outputs": [
    {
     "name": "stdout",
     "output_type": "stream",
     "text": [
      "\r",
      "  0% [                                                                                ]    0 / 2476\r",
      "100% [................................................................................] 2476 / 2476"
     ]
    }
   ],
   "source": [
    "# get dataset and read into pandas dataframe\n",
    "spacex_csv_file = wget.download('https://cf-courses-data.s3.us.cloud-object-storage.appdomain.cloud/IBM-DS0321EN-SkillsNetwork/datasets/spacex_launch_dash.csv')\n",
    "spacex_df=pd.read_csv(spacex_csv_file)\n",
    "max_payload = spacex_df['Payload Mass (kg)'].max()\n",
    "min_payload = spacex_df['Payload Mass (kg)'].min()"
   ]
  },
  {
   "cell_type": "code",
   "execution_count": 3,
   "metadata": {
    "scrolled": true
   },
   "outputs": [
    {
     "data": {
      "text/html": [
       "<div>\n",
       "<style scoped>\n",
       "    .dataframe tbody tr th:only-of-type {\n",
       "        vertical-align: middle;\n",
       "    }\n",
       "\n",
       "    .dataframe tbody tr th {\n",
       "        vertical-align: top;\n",
       "    }\n",
       "\n",
       "    .dataframe thead th {\n",
       "        text-align: right;\n",
       "    }\n",
       "</style>\n",
       "<table border=\"1\" class=\"dataframe\">\n",
       "  <thead>\n",
       "    <tr style=\"text-align: right;\">\n",
       "      <th></th>\n",
       "      <th>Unnamed: 0</th>\n",
       "      <th>Flight Number</th>\n",
       "      <th>Launch Site</th>\n",
       "      <th>class</th>\n",
       "      <th>Payload Mass (kg)</th>\n",
       "      <th>Booster Version</th>\n",
       "      <th>Booster Version Category</th>\n",
       "    </tr>\n",
       "  </thead>\n",
       "  <tbody>\n",
       "    <tr>\n",
       "      <th>51</th>\n",
       "      <td>51</td>\n",
       "      <td>48</td>\n",
       "      <td>CCAFS SLC-40</td>\n",
       "      <td>0</td>\n",
       "      <td>4230.0</td>\n",
       "      <td>F9 FT  B1032.2</td>\n",
       "      <td>FT</td>\n",
       "    </tr>\n",
       "    <tr>\n",
       "      <th>52</th>\n",
       "      <td>52</td>\n",
       "      <td>50</td>\n",
       "      <td>CCAFS SLC-40</td>\n",
       "      <td>0</td>\n",
       "      <td>6092.0</td>\n",
       "      <td>F9 B4 B1044</td>\n",
       "      <td>B4</td>\n",
       "    </tr>\n",
       "    <tr>\n",
       "      <th>53</th>\n",
       "      <td>53</td>\n",
       "      <td>52</td>\n",
       "      <td>CCAFS SLC-40</td>\n",
       "      <td>0</td>\n",
       "      <td>2647.0</td>\n",
       "      <td>F9 B4  B1039.2</td>\n",
       "      <td>B4</td>\n",
       "    </tr>\n",
       "    <tr>\n",
       "      <th>54</th>\n",
       "      <td>54</td>\n",
       "      <td>53</td>\n",
       "      <td>CCAFS SLC-40</td>\n",
       "      <td>1</td>\n",
       "      <td>362.0</td>\n",
       "      <td>F9 B4 B1045.1</td>\n",
       "      <td>B4</td>\n",
       "    </tr>\n",
       "    <tr>\n",
       "      <th>55</th>\n",
       "      <td>55</td>\n",
       "      <td>56</td>\n",
       "      <td>CCAFS SLC-40</td>\n",
       "      <td>0</td>\n",
       "      <td>5384.0</td>\n",
       "      <td>F9 B4  B1040.2</td>\n",
       "      <td>B4</td>\n",
       "    </tr>\n",
       "  </tbody>\n",
       "</table>\n",
       "</div>"
      ],
      "text/plain": [
       "    Unnamed: 0  Flight Number   Launch Site  class  Payload Mass (kg)  \\\n",
       "51          51             48  CCAFS SLC-40      0             4230.0   \n",
       "52          52             50  CCAFS SLC-40      0             6092.0   \n",
       "53          53             52  CCAFS SLC-40      0             2647.0   \n",
       "54          54             53  CCAFS SLC-40      1              362.0   \n",
       "55          55             56  CCAFS SLC-40      0             5384.0   \n",
       "\n",
       "   Booster Version Booster Version Category  \n",
       "51  F9 FT  B1032.2                       FT  \n",
       "52     F9 B4 B1044                       B4  \n",
       "53  F9 B4  B1039.2                       B4  \n",
       "54   F9 B4 B1045.1                       B4  \n",
       "55  F9 B4  B1040.2                       B4  "
      ]
     },
     "execution_count": 3,
     "metadata": {},
     "output_type": "execute_result"
    }
   ],
   "source": [
    "spacex_df.tail()"
   ]
  },
  {
   "cell_type": "code",
   "execution_count": 4,
   "metadata": {},
   "outputs": [
    {
     "data": {
      "text/plain": [
       "class\n",
       "0        4\n",
       "1        3\n",
       "dtype: int64"
      ]
     },
     "execution_count": 4,
     "metadata": {},
     "output_type": "execute_result"
    }
   ],
   "source": [
    "spacex_df[spacex_df['Launch Site']=='CCAFS SLC-40'][['class']].value_counts()"
   ]
  },
  {
   "cell_type": "code",
   "execution_count": 5,
   "metadata": {},
   "outputs": [
    {
     "ename": "SyntaxError",
     "evalue": "invalid syntax (<ipython-input-5-ca30e8344fcd>, line 1)",
     "output_type": "error",
     "traceback": [
      "\u001b[1;36m  File \u001b[1;32m\"<ipython-input-5-ca30e8344fcd>\"\u001b[1;36m, line \u001b[1;32m1\u001b[0m\n\u001b[1;33m    pd.DataFrame.(spacex_df[spacex_df['Launch Site']=='CCAFS SLC-40'][['class']].value_counts()).reset_index()\u001b[0m\n\u001b[1;37m                 ^\u001b[0m\n\u001b[1;31mSyntaxError\u001b[0m\u001b[1;31m:\u001b[0m invalid syntax\n"
     ]
    }
   ],
   "source": [
    "pd.DataFrame.(spacex_df[spacex_df['Launch Site']=='CCAFS SLC-40'][['class']].value_counts()).reset_index()"
   ]
  },
  {
   "cell_type": "code",
   "execution_count": 6,
   "metadata": {},
   "outputs": [
    {
     "name": "stderr",
     "output_type": "stream",
     "text": [
      " * Running on http://localhost:8050/ (Press CTRL+C to quit)\n",
      "127.0.0.1 - - [27/Aug/2022 12:19:41] \"\u001b[37mGET /_alive_8343834f-6c3d-4a89-8c8d-e4fbcce54534 HTTP/1.1\u001b[0m\" 200 -\n"
     ]
    },
    {
     "name": "stdout",
     "output_type": "stream",
     "text": [
      "Dash app running on http://localhost:8050/\n"
     ]
    },
    {
     "name": "stderr",
     "output_type": "stream",
     "text": [
      "127.0.0.1 - - [27/Aug/2022 12:19:44] \"\u001b[37mGET / HTTP/1.1\u001b[0m\" 200 -\n",
      "127.0.0.1 - - [27/Aug/2022 12:19:45] \"\u001b[37mGET /_dash-layout HTTP/1.1\u001b[0m\" 200 -\n",
      "127.0.0.1 - - [27/Aug/2022 12:19:45] \"\u001b[37mGET /_dash-dependencies HTTP/1.1\u001b[0m\" 200 -\n",
      "127.0.0.1 - - [27/Aug/2022 12:19:45] \"\u001b[37mGET /_favicon.ico?v=2.5.1 HTTP/1.1\u001b[0m\" 200 -\n",
      "127.0.0.1 - - [27/Aug/2022 12:19:45] \"\u001b[37mGET /_dash-component-suites/dash/dcc/async-graph.js HTTP/1.1\u001b[0m\" 200 -\n",
      "127.0.0.1 - - [27/Aug/2022 12:19:45] \"\u001b[37mGET /_dash-component-suites/dash/dcc/async-dropdown.js HTTP/1.1\u001b[0m\" 200 -\n",
      "127.0.0.1 - - [27/Aug/2022 12:19:45] \"\u001b[37mGET /_dash-component-suites/dash/dcc/async-plotlyjs.js HTTP/1.1\u001b[0m\" 200 -\n",
      "127.0.0.1 - - [27/Aug/2022 12:19:45] \"\u001b[37mGET /_dash-component-suites/dash/dcc/async-slider.js HTTP/1.1\u001b[0m\" 200 -\n",
      "127.0.0.1 - - [27/Aug/2022 12:19:47] \"\u001b[37mPOST /_dash-update-component HTTP/1.1\u001b[0m\" 200 -\n",
      "127.0.0.1 - - [27/Aug/2022 12:19:47] \"\u001b[37mPOST /_dash-update-component HTTP/1.1\u001b[0m\" 200 -\n"
     ]
    }
   ],
   "source": [
    "# Create a dash application\n",
    "#app = dash.Dash(__name__)\n",
    "app=JupyterDash(__name__)\n",
    "\n",
    "# Create an app layout\n",
    "app.layout = html.Div(children=[html.H1('SpaceX Launch Records Dashboard',\n",
    "                                        style={'textAlign': 'center', 'color': '#503D36',\n",
    "                                               'font-size': 40}),\n",
    "                                # TASK 1: Add a dropdown list to enable Launch Site selection\n",
    "                                # The default select value is for ALL sites\n",
    "                                # dcc.Dropdown(id='site-dropdown',...)\n",
    "                                dcc.Dropdown(id='site-dropdown',\n",
    "                                             options=[{'label': 'All Sites', 'value': 'ALL'}]+\n",
    "                                             [{'label': site, 'value': site} for site in spacex_df['Launch Site'].unique()],\n",
    "                                             value='ALL',\n",
    "                                             searchable=True),\n",
    "                                html.Br(),\n",
    "\n",
    "                                # TASK 2: Add a pie chart to show the total successful launches count for all sites\n",
    "                                # If a specific launch site was selected, show the Success vs. Failed counts for the site\n",
    "                                html.Div(dcc.Graph(id='success-pie-chart')),\n",
    "                                html.Br(),\n",
    "\n",
    "                                html.P(\"Payload range (Kg):\"),\n",
    "                                # TASK 3: Add a slider to select payload range\n",
    "                                dcc.RangeSlider(id='payload-slider',\n",
    "                                                min=0, max=10000, step=None,\n",
    "                                                value=[min_payload, max_payload]),\n",
    "\n",
    "                                # TASK 4: Add a scatter chart to show the correlation between payload and launch success\n",
    "                                html.Div(dcc.Graph(id='success-payload-scatter-chart')),\n",
    "                                ])\n",
    "\n",
    "# TASK 2:\n",
    "# Add a callback function for `site-dropdown` as input, `success-pie-chart` as output\n",
    "@app.callback(Output(component_id='success-pie-chart', component_property='figure'),\n",
    "              Input(component_id='site-dropdown',component_property='value'))\n",
    "\n",
    "def get_pie_chart(entered_site):\n",
    "    \n",
    "    if entered_site == 'ALL':\n",
    "        # dataset: success counts per site\n",
    "        pie_data_all=spacex_df[['Launch Site','class']].groupby('Launch Site').sum().reset_index()\n",
    "        fig = px.pie(pie_data_all, values='class', names='Launch Site', title='Percentage of total successful launches')\n",
    "        \n",
    "    else:\n",
    "        \n",
    "        # dataset: success percentage for chosen site\n",
    "        pie_data_single=pd.DataFrame(spacex_df[spacex_df['Launch Site']==entered_site][['class']].\n",
    "                                      value_counts()).reset_index()\n",
    "        pie_data_single.columns=['class','count']\n",
    "        pie_data_single['Result']=['Success' if result else 'Failure' for result in pie_data_single['class']]\n",
    "        fig = px.pie(pie_data_single, values='count', names='Result', title='Launches for site '+entered_site,\n",
    "                    color='Result',color_discrete_map={'Success':'green','Failure':'firebrick'})\n",
    "        \n",
    "    return fig\n",
    "\n",
    "# TASK 4:\n",
    "# Add a callback function for `site-dropdown` and `payload-slider` as inputs, `success-payload-scatter-chart` as output\n",
    "@app.callback(Output(component_id='success-payload-scatter-chart',component_property='figure'),\n",
    "             [Input(component_id='site-dropdown',component_property='value'),\n",
    "             Input(component_id='payload-slider',component_property='value')])\n",
    "\n",
    "def get_scatter_chart(entered_site,slider_range):\n",
    "    \n",
    "    if entered_site=='ALL':\n",
    "        # dataset: all payload mass and corresponding class\n",
    "        scatter_data=spacex_df\n",
    "        title='Outcome vs Payload for all launch sites'\n",
    "    else:\n",
    "        # dataset: payload data per launch site\n",
    "        scatter_data=spacex_df[spacex_df['Launch Site']==entered_site]\n",
    "        title='Outcome vs Payload for launch site '+entered_site\n",
    "        \n",
    "    dataset=scatter_data[['Payload Mass (kg)','class','Booster Version Category']]  \n",
    "    fig=px.scatter(scatter_data,x='Payload Mass (kg)',y='class',color='Booster Version Category',\n",
    "                   range_x=slider_range,range_y=[-0.5,1.5],title=title,labels={'class':'Launch Outcome'})\n",
    "    fig.update_layout(yaxis = dict(tickvals = [0,1],ticktext = ['Failure','Success']))\n",
    "    \n",
    "    return fig\n",
    "\n",
    "# Run the app4,3,2,1\n",
    "if __name__ == '__main__':\n",
    "    #app.run_server()\n",
    "    app.run_server(mode='external', host='localhost', debug=False, dev_tools_ui=False, dev_tools_props_check=False)"
   ]
  },
  {
   "cell_type": "code",
   "execution_count": null,
   "metadata": {},
   "outputs": [],
   "source": []
  }
 ],
 "metadata": {
  "kernelspec": {
   "display_name": "Python 3",
   "language": "python",
   "name": "python3"
  },
  "language_info": {
   "codemirror_mode": {
    "name": "ipython",
    "version": 3
   },
   "file_extension": ".py",
   "mimetype": "text/x-python",
   "name": "python",
   "nbconvert_exporter": "python",
   "pygments_lexer": "ipython3",
   "version": "3.8.5"
  }
 },
 "nbformat": 4,
 "nbformat_minor": 4
}
